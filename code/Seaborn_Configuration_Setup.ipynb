{
  "nbformat": 4,
  "nbformat_minor": 0,
  "metadata": {
    "colab": {
      "name": "Seaborn Configuration Setup.ipynb",
      "provenance": [],
      "collapsed_sections": [],
      "authorship_tag": "ABX9TyNU+WF4vh2Pt0W+1avNRsQd"
    },
    "kernelspec": {
      "name": "python3",
      "display_name": "Python 3"
    },
    "language_info": {
      "name": "python"
    }
  },
  "cells": [
    {
      "cell_type": "code",
      "execution_count": 1,
      "metadata": {
        "id": "fo_WfFc_1pLc"
      },
      "outputs": [],
      "source": [
        "# !pip install brewer2mpl\n",
        "import numpy as np\n",
        "import pandas as pd\n",
        "import matplotlib as mpl\n",
        "import matplotlib.pyplot as plt\n",
        "import seaborn as sns\n",
        "import warnings; warnings.filterwarnings(action='once')\n",
        "\n",
        "large = 22; med = 16; small = 12\n",
        "params = {'axes.titlesize': large,\n",
        "          'legend.fontsize': med,\n",
        "          'figure.figsize': (16, 10),\n",
        "          'axes.labelsize': med,\n",
        "          'axes.titlesize': med,\n",
        "          'xtick.labelsize': med,\n",
        "          'ytick.labelsize': med,\n",
        "          'figure.titlesize': large}\n",
        "plt.rcParams.update(params)\n",
        "%matplotlib inline"
      ]
    },
    {
      "cell_type": "code",
      "source": [
        "# Version\n",
        "print(mpl.__version__)  #> 3.2.2\n",
        "print(sns.__version__)  #> 0.11.2"
      ],
      "metadata": {
        "id": "Rg6fEjvi5A3c",
        "outputId": "684d2c57-7229-4996-b28c-95c788838324",
        "colab": {
          "base_uri": "https://localhost:8080/"
        }
      },
      "execution_count": 2,
      "outputs": [
        {
          "output_type": "stream",
          "name": "stdout",
          "text": [
            "3.2.2\n",
            "0.11.2\n"
          ]
        }
      ]
    },
    {
      "cell_type": "markdown",
      "source": [
        "# Themeing In Seaborn\n",
        "Note that this will take effect for all matplotlib plots, including those not made using seaborn"
      ],
      "metadata": {
        "id": "K_WsI8Py5otH"
      }
    },
    {
      "cell_type": "markdown",
      "source": [
        "## set_theme"
      ],
      "metadata": {
        "id": "FkuvorqR5zhY"
      }
    },
    {
      "cell_type": "code",
      "source": [
        "# default theme if you dont use theme statement\n",
        "sns.barplot(x=[\"A\", \"B\", \"C\"], y=[1, 3, 2])"
      ],
      "metadata": {
        "id": "DNkh3Fx95BQg",
        "colab": {
          "base_uri": "https://localhost:8080/",
          "height": 288
        },
        "outputId": "6fd35b07-b3c1-4125-df8e-87e0864852d2"
      },
      "execution_count": 3,
      "outputs": [
        {
          "output_type": "execute_result",
          "data": {
            "text/plain": [
              "<matplotlib.axes._subplots.AxesSubplot at 0x7f9cd4c51ad0>"
            ]
          },
          "metadata": {},
          "execution_count": 3
        },
        {
          "output_type": "display_data",
          "data": {
            "image/png": "[encoded data removed]",
            "text/plain": [
              "<Figure size 432x288 with 1 Axes>"
            ]
          },
          "metadata": {
            "needs_background": "light"
          }
        }
      ]
    },
    {
      "cell_type": "markdown",
      "source": [
        "## Note that this will take effect for all matplotlib plots, including those not made using seaborn"
      ],
      "metadata": {
        "id": "deOmp6FRe6gY"
      }
    },
    {
      "cell_type": "code",
      "source": [
        "# Those parameter are default setting for the them same as sns.set_theme()\n",
        "sns.set_theme(context='notebook', style='darkgrid', palette='deep', font='sans-serif', font_scale=1, color_codes=True, rc=None)\n",
        "# same as following code line\n",
        "# sns.set_theme()\n",
        "sns.barplot(x=[\"A\", \"B\", \"C\"], y=[1, 3, 2])"
      ],
      "metadata": {
        "colab": {
          "base_uri": "https://localhost:8080/",
          "height": 286
        },
        "id": "uZybJYH65Jnp",
        "outputId": "0e51c0cd-69c6-4a0b-e355-cfb7caa23c41"
      },
      "execution_count": 5,
      "outputs": [
        {
          "output_type": "execute_result",
          "data": {
            "text/plain": [
              "<matplotlib.axes._subplots.AxesSubplot at 0x7f9cd3f3b790>"
            ]
          },
          "metadata": {},
          "execution_count": 5
        },
        {
          "output_type": "display_data",
          "data": {
            "image/png": "[encoded data removed]",
            "text/plain": [
              "<Figure size 432x288 with 1 Axes>"
            ]
          },
          "metadata": {}
        }
      ]
    },
    {
      "cell_type": "code",
      "source": [
        "#Recommand Style 1\n",
        "sns.set_theme(context='notebook', style='whitegrid', palette='pastel')\n",
        "sns.barplot(x=[\"A\", \"B\", \"C\"], y=[1, 3, 2])"
      ],
      "metadata": {
        "id": "Mzni0V_W6DlW",
        "colab": {
          "base_uri": "https://localhost:8080/",
          "height": 286
        },
        "outputId": "c9cb92b3-018d-4a69-9131-a9cf194dd0b1"
      },
      "execution_count": 6,
      "outputs": [
        {
          "output_type": "execute_result",
          "data": {
            "text/plain": [
              "<matplotlib.axes._subplots.AxesSubplot at 0x7f9cd3e9da90>"
            ]
          },
          "metadata": {},
          "execution_count": 6
        },
        {
          "output_type": "display_data",
          "data": {
            "image/png": "[encoded data removed]",
            "text/plain": [
              "<Figure size 432x288 with 1 Axes>"
            ]
          },
          "metadata": {}
        }
      ]
    },
    {
      "cell_type": "code",
      "source": [
        ""
      ],
      "metadata": {
        "id": "7OK7jlOzfRgo"
      },
      "execution_count": null,
      "outputs": []
    }
  ]
}